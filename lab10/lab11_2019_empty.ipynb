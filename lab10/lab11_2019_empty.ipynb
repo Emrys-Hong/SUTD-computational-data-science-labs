{
  "nbformat": 4,
  "nbformat_minor": 0,
  "metadata": {
    "colab": {
      "name": "lab11_empty.ipynb",
      "provenance": [],
      "collapsed_sections": []
    },
    "kernelspec": {
      "name": "python3",
      "display_name": "Python 3"
    },
    "accelerator": "GPU"
  },
  "cells": [
    {
      "cell_type": "markdown",
      "metadata": {
        "id": "V8zkzDvUhfpx",
        "colab_type": "text"
      },
      "source": [
        "# Convolutional Neural Networks for classification\n",
        "\n",
        "-- Prof. Dorien Herremans\n",
        "\n",
        "We will be demonstrating the use of CNNs for image classification. This tutorial will use the Keras library, built upon Tensorflow version 1.x \n",
        "\n",
        "Since CNNs can benefit from using GPU power, please change your runtime to GPU. It will make things to 10x as fast. You can do it using the Runtime menu in Google Colab. "
      ]
    },
    {
      "cell_type": "code",
      "metadata": {
        "id": "SiLhM-ZahfqB",
        "colab_type": "code",
        "outputId": "16e557f3-327b-48f9-e4cd-ab3735ff98a4",
        "colab": {
          "base_uri": "https://localhost:8080/",
          "height": 153
        }
      },
      "source": [
        "# If Keras is not installed, please do so with the command below: \n",
        "!pip install keras\n",
        "\n",
        "# This notebook is built around using tensorflow 1.0 as the backend for keras\n",
        "!KERAS_BACKEND=tensorflow python -c \"from tensorflow.keras import backend\""
      ],
      "execution_count": 0,
      "outputs": [
        {
          "output_type": "stream",
          "text": [
            "Requirement already satisfied: keras in /usr/local/lib/python3.6/dist-packages (2.2.5)\n",
            "Requirement already satisfied: keras-preprocessing>=1.1.0 in /usr/local/lib/python3.6/dist-packages (from keras) (1.1.0)\n",
            "Requirement already satisfied: pyyaml in /usr/local/lib/python3.6/dist-packages (from keras) (3.13)\n",
            "Requirement already satisfied: six>=1.9.0 in /usr/local/lib/python3.6/dist-packages (from keras) (1.12.0)\n",
            "Requirement already satisfied: keras-applications>=1.0.8 in /usr/local/lib/python3.6/dist-packages (from keras) (1.0.8)\n",
            "Requirement already satisfied: numpy>=1.9.1 in /usr/local/lib/python3.6/dist-packages (from keras) (1.17.3)\n",
            "Requirement already satisfied: scipy>=0.14 in /usr/local/lib/python3.6/dist-packages (from keras) (1.3.1)\n",
            "Requirement already satisfied: h5py in /usr/local/lib/python3.6/dist-packages (from keras) (2.8.0)\n"
          ],
          "name": "stdout"
        }
      ]
    },
    {
      "cell_type": "markdown",
      "metadata": {
        "id": "Q3qi0H9-hfqb",
        "colab_type": "text"
      },
      "source": [
        "We will be performing a 2-class classification problem: classifying dogs versus cats from images. Our dataset is based on the Kaggle dataset https://www.kaggle.com/c/dogs-vs-cats/data. Do **not** use this dataset, however, as it is very big and will take too long to train. \n",
        "\n",
        "**Please download the reduced dataset from dorienherremans.com/drop -> cds / cnns/ catsanddogs. This reduced dataset contains 1,000 training examples for each class, and 400 validation examples for each class.\n",
        "\n",
        "In summary, this is our directory structure:\n",
        "```\n",
        "data/\n",
        "    train/\n",
        "        dogs/\n",
        "            dog001.jpg\n",
        "            dog002.jpg\n",
        "            ...\n",
        "        cats/\n",
        "            cat001.jpg\n",
        "            cat002.jpg\n",
        "            ...\n",
        "    validation/\n",
        "        dogs/\n",
        "            dog001.jpg\n",
        "            dog002.jpg\n",
        "            ...\n",
        "        cats/\n",
        "            cat001.jpg\n",
        "            cat002.jpg\n",
        "            ...\n",
        "preview/\n",
        "```\n",
        "\n",
        "\n",
        "Notice how the labels of the images are, in fact, the folders. You can use any other types of labels/images to train this model and it will adapt accordingly...\n"
      ]
    },
    {
      "cell_type": "markdown",
      "metadata": {
        "id": "PrUUa6qHDfXT",
        "colab_type": "text"
      },
      "source": [
        "Let's download the dataset: \n"
      ]
    },
    {
      "cell_type": "code",
      "metadata": {
        "id": "lEt9m8uwn4SF",
        "colab_type": "code",
        "colab": {}
      },
      "source": [
        ""
      ],
      "execution_count": 0,
      "outputs": []
    },
    {
      "cell_type": "markdown",
      "metadata": {
        "id": "P5HXOseTEIZX",
        "colab_type": "text"
      },
      "source": [
        "Unzip the file you just downloaded. This will extract everything in the folder structure described above. \n"
      ]
    },
    {
      "cell_type": "code",
      "metadata": {
        "id": "S6rbqPPFwLYh",
        "colab_type": "code",
        "colab": {}
      },
      "source": [
        ""
      ],
      "execution_count": 0,
      "outputs": []
    },
    {
      "cell_type": "markdown",
      "metadata": {
        "id": "ZEELM0mqhfqm",
        "colab_type": "text"
      },
      "source": [
        "Loading the necessary libraries for the lab: "
      ]
    },
    {
      "cell_type": "code",
      "metadata": {
        "id": "WgA7IZ2uhfqs",
        "colab_type": "code",
        "outputId": "e9292aa3-a9f9-4c0b-c3c6-50659bf439be",
        "colab": {
          "base_uri": "https://localhost:8080/",
          "height": 34
        }
      },
      "source": [
        "%tensorflow_version 1.x\n",
        "\n",
        "import os\n",
        "import numpy as np\n",
        "from keras.models import Sequential\n",
        "from keras.layers import Activation, Dropout, Flatten, Dense\n",
        "from keras.preprocessing.image import ImageDataGenerator\n",
        "from keras.layers import Convolution2D, MaxPooling2D, ZeroPadding2D\n",
        "from keras import optimizers\n",
        "from keras import applications\n",
        "from keras.models import Model\n",
        "from keras.callbacks import History "
      ],
      "execution_count": 0,
      "outputs": [
        {
          "output_type": "stream",
          "text": [
            "Using TensorFlow backend.\n"
          ],
          "name": "stderr"
        }
      ]
    },
    {
      "cell_type": "markdown",
      "metadata": {
        "id": "ME4CL6TZZXHH",
        "colab_type": "text"
      },
      "source": [
        "Next, we'll store the training and validation data path in two variables. We'll also store the image resolution in two variables: "
      ]
    },
    {
      "cell_type": "code",
      "metadata": {
        "id": "SGnAL0UkhfrH",
        "colab_type": "code",
        "colab": {}
      },
      "source": [
        ""
      ],
      "execution_count": 0,
      "outputs": []
    },
    {
      "cell_type": "markdown",
      "metadata": {
        "id": "6K82dYgwhfrc",
        "colab_type": "text"
      },
      "source": [
        "# Simple CNN\n",
        "\n",
        "Let's preprocess the data before we feed them to the CNN. We will use 'generators' to feed batches of images to the network. All of these are rescaled to 150x150 and the pixel values are normalised to be between 0 and 1 (instead of 0 and 255). "
      ]
    },
    {
      "cell_type": "code",
      "metadata": {
        "id": "DyQFPdvdhfrj",
        "colab_type": "code",
        "colab": {}
      },
      "source": [
        "# rescale the pixel values from [0, 255] to [0, 1] interval\n",
        "\n",
        "\n",
        "# automagically retrieve images and their classes for train and validation sets\n"
      ],
      "execution_count": 0,
      "outputs": []
    },
    {
      "cell_type": "markdown",
      "metadata": {
        "id": "VAhIi7zRhfr_",
        "colab_type": "text"
      },
      "source": [
        "### Model architecture\n",
        "Now we are ready to define our model architecture. We'll use a three layered convolutional network with ReLu units and pooling. On top of the three convolutional layers, we add two fully-connected layers."
      ]
    },
    {
      "cell_type": "code",
      "metadata": {
        "id": "OT0PFyK9hfsL",
        "colab_type": "code",
        "colab": {}
      },
      "source": [
        "# a simple stack of 3 convolution layers with a ReLU activation and followed by max-pooling layers.\n",
        "\n",
        "# in Keras, sequential model means a linear stack of layers. Which is what we are doing\n",
        "\n",
        "\n",
        "# We add three convolution layers, each consisting of ReLu \n",
        "# units and pooling with a window of (2,2)\n",
        "#32 filters, kernel size (3,3)\n"
      ],
      "execution_count": 0,
      "outputs": []
    },
    {
      "cell_type": "markdown",
      "metadata": {
        "id": "YYbd0NIWhfst",
        "colab_type": "text"
      },
      "source": [
        "In order to facilitate binary classification, we end the model with a single unit that uses sigmoid activation. Training will be done by minimising the binary_crossentropy loss and using an RmsProp optimizer. Alternatives include Adam optimizer and others, see: https://keras.io/optimizers/"
      ]
    },
    {
      "cell_type": "code",
      "metadata": {
        "id": "6xAeI-ivhfsw",
        "colab_type": "code",
        "colab": {}
      },
      "source": [
        "# specify training loss function \n"
      ],
      "execution_count": 0,
      "outputs": []
    },
    {
      "cell_type": "markdown",
      "metadata": {
        "id": "CBgUxGTjhftD",
        "colab_type": "text"
      },
      "source": [
        "### Training\n",
        "\n",
        "Let's train this simple model for a few epochs. I recommend as many epochs as your computer can handle, but put it to very few the first time you run. (It can be time consuming: about 3-60 seconds an epoch, so definitely use GPU!) We sample (randomly select) 2048 images from the dataset as training, and 832 as validation. \n"
      ]
    },
    {
      "cell_type": "code",
      "metadata": {
        "id": "cXikqV1yhftf",
        "colab_type": "code",
        "colab": {}
      },
      "source": [
        ""
      ],
      "execution_count": 0,
      "outputs": []
    },
    {
      "cell_type": "code",
      "metadata": {
        "id": "DhUOAiOOhfuS",
        "colab_type": "code",
        "colab": {}
      },
      "source": [
        ""
      ],
      "execution_count": 0,
      "outputs": []
    },
    {
      "cell_type": "markdown",
      "metadata": {
        "id": "I-H4VS4lhfvC",
        "colab_type": "text"
      },
      "source": [
        "After this long a wait you will want to save your weights! This way you can reuse your model without training it again: "
      ]
    },
    {
      "cell_type": "code",
      "metadata": {
        "id": "OQfAhb2fhfvF",
        "colab_type": "code",
        "colab": {}
      },
      "source": [
        ""
      ],
      "execution_count": 0,
      "outputs": []
    },
    {
      "cell_type": "markdown",
      "metadata": {
        "id": "PDHKYYOHa_EW",
        "colab_type": "text"
      },
      "source": [
        "And later, when you want to load the saved model you can just call it like this without having to train it again: "
      ]
    },
    {
      "cell_type": "code",
      "metadata": {
        "id": "by5cNHq0hfvZ",
        "colab_type": "code",
        "colab": {}
      },
      "source": [
        "#model.load_weights('basic_cnn_30_epochs.h5')"
      ],
      "execution_count": 0,
      "outputs": []
    },
    {
      "cell_type": "markdown",
      "metadata": {
        "id": "SrChS8lJhfvz",
        "colab_type": "text"
      },
      "source": [
        "### Evaluating the model during training\n",
        "\n",
        "Now that we have trained our model, let's see how well it performs. Because we've added the argument callbacks=[history] to our generator object, the loss was saved at each step during training and we can retrieve it from a variable called history. Below we plot the different variables in the history object during training: "
      ]
    },
    {
      "cell_type": "code",
      "metadata": {
        "id": "Ea09NcM7hfv5",
        "colab_type": "code",
        "outputId": "82eb71cd-1ddd-493e-a926-fa5299f18910",
        "colab": {
          "base_uri": "https://localhost:8080/",
          "height": 295
        }
      },
      "source": [
        "import numpy as np\n",
        "import matplotlib.pyplot as plt\n",
        "\n",
        "# plot the training loss and accuracy\n",
        "def plotResults(): \n",
        "    plt.figure()\n",
        "    N = epochs\n",
        "    \n",
        "    # TODO: plot the accuracy/loss variables over training time\n",
        "\n",
        "    # make the graph understandable: \n",
        "    plt.title(\"Training Loss and Accuracy\")\n",
        "    plt.xlabel(\"Epoch #\")\n",
        "    plt.ylabel(\"Loss/Accuracy\")\n",
        "    plt.legend(loc=\"upper left\")\n",
        "    plt.show()\n",
        "    \n",
        "plotResults()"
      ],
      "execution_count": 0,
      "outputs": [
        {
          "output_type": "display_data",
          "data": {
            "image/png": "[encoded data removed]",
            "text/plain": [
              "<Figure size 432x288 with 1 Axes>"
            ]
          },
          "metadata": {
            "tags": []
          }
        }
      ]
    },
    {
      "cell_type": "markdown",
      "metadata": {
        "id": "xb7XSiHzhfwW",
        "colab_type": "text"
      },
      "source": [
        "After ~10 epochs the neural network reaches ~75% accuracy. We can witness overfitting, as no progress is made on the validation set in the next epochs."
      ]
    },
    {
      "cell_type": "markdown",
      "metadata": {
        "id": "sZdZrLEKhfwa",
        "colab_type": "text"
      },
      "source": [
        "# Augmented data model\n",
        "\n",
        "Overfitting can possibly be remedies by augmenting our dataset so that our model becomes more robust. Let's take a random image of a cat again and display it: \n"
      ]
    },
    {
      "cell_type": "code",
      "metadata": {
        "id": "4X54xuM8hfwi",
        "colab_type": "code",
        "colab": {}
      },
      "source": [
        ""
      ],
      "execution_count": 0,
      "outputs": []
    },
    {
      "cell_type": "markdown",
      "metadata": {
        "id": "rfRIgMDfb6At",
        "colab_type": "text"
      },
      "source": [
        "She's cute and looks like my cat [Sendai](https://www.facebook.com/Sendai-251531448370007/) (who is sadly still in Belgium). Unlike Sendai, who likes posing for the camera, we only have one shot of this cat. So let's augment this image into multiple slightly different images..."
      ]
    },
    {
      "cell_type": "markdown",
      "metadata": {
        "id": "cFMCb9o0hfxc",
        "colab_type": "text"
      },
      "source": [
        "Keras contains a preprocessing library. This provides us with a number of operations, including: \n",
        "\n",
        "* rotation_range is a value in degrees (0-180), a range within which to randomly rotate pictures\n",
        "* width_shift and height_shift are ranges (as a fraction of total width or height) within which to randomly translate pictures vertically or horizontally\n",
        "* rescale is a value by which we will multiply the data before any other processing. Our original images consist in RGB coefficients in the 0-255, but such values would be too high for our models to process (given a typical learning rate), so we target values between 0 and 1 instead by scaling with a 1/255. factor.\n",
        "* shear_range is for randomly applying shearing transformations\n",
        "* zoom_range is for randomly zooming inside pictures\n",
        "* horizontal_flip is for randomly flipping half of the images horizontally --relevant when there are no assumptions of horizontal assymetry (e.g. real-world pictures).\n",
        "* fill_mode is the strategy used for filling in newly created pixels, which can appear after a rotation or a width/height shift.\n",
        "\n",
        "More options available in the documentation: http://keras.io/preprocessing/image/\n",
        "\n",
        "Let's test this out on the cat image: "
      ]
    },
    {
      "cell_type": "code",
      "metadata": {
        "id": "yzZoRnj3hfxr",
        "colab_type": "code",
        "colab": {}
      },
      "source": [
        "# change the characteristics to augment the data in different way if you want to explore... \n",
        "\n",
        "\n",
        "# load the original image\n",
        "\n",
        "\n",
        "# reshape the image to a numpy array\n",
        "\n",
        "\n",
        "# the .flow() command below generates batches of randomly transformed images\n",
        "# and saves the results to the `preview/` directory\n"
      ],
      "execution_count": 0,
      "outputs": []
    },
    {
      "cell_type": "markdown",
      "metadata": {
        "id": "ouRkurV8hfyD",
        "colab_type": "text"
      },
      "source": [
        "This has put the images in our preview/ folder. You can check in your filemanager or via: "
      ]
    },
    {
      "cell_type": "code",
      "metadata": {
        "id": "yvlJfciRhfyN",
        "colab_type": "code",
        "colab": {}
      },
      "source": [
        "\n",
        "    "
      ],
      "execution_count": 0,
      "outputs": []
    },
    {
      "cell_type": "markdown",
      "metadata": {
        "id": "givWXg-3hfz8",
        "colab_type": "text"
      },
      "source": [
        "Great! Notice how the cat images are mirrored, skewed and generally deformed. This will allow our model to train more robustly. \n",
        "\n",
        "Now it's time to fit the new data into the model in Keras. We will be downscaling all the images to 150x150 pixels so that they are all the same size. We will use the same 3 layered model with ReLu nodes and pooling that was previously defined. \n",
        "\n",
        "Now we can integrate this in our previous data preprocessing as follows: "
      ]
    },
    {
      "cell_type": "code",
      "metadata": {
        "id": "6UCVkqsnhf0f",
        "colab_type": "code",
        "colab": {}
      },
      "source": [
        "# slightly adapted the variables for data augmentation: \n",
        "\n",
        "\n",
        "# almost same code as before exept first line\n"
      ],
      "execution_count": 0,
      "outputs": []
    },
    {
      "cell_type": "markdown",
      "metadata": {
        "id": "6pnN3I-Fhf1U",
        "colab_type": "text"
      },
      "source": [
        "Let's train the model. Remember adjust the (previously set) batch size variable to make the training shorter or longer..."
      ]
    },
    {
      "cell_type": "code",
      "metadata": {
        "id": "OAEfJdvqhf1V",
        "colab_type": "code",
        "colab": {}
      },
      "source": [
        ""
      ],
      "execution_count": 0,
      "outputs": []
    },
    {
      "cell_type": "markdown",
      "metadata": {
        "id": "qQJfXGcIhf1l",
        "colab_type": "text"
      },
      "source": [
        "Save the trained model: "
      ]
    },
    {
      "cell_type": "code",
      "metadata": {
        "id": "4DFpfZSnhf1n",
        "colab_type": "code",
        "colab": {}
      },
      "source": [
        ""
      ],
      "execution_count": 0,
      "outputs": []
    },
    {
      "cell_type": "markdown",
      "metadata": {
        "id": "nSl7d4xohf12",
        "colab_type": "text"
      },
      "source": [
        "How does this model perform? (We use the function we defined earlier.)"
      ]
    },
    {
      "cell_type": "code",
      "metadata": {
        "id": "dW7aMinMhf1-",
        "colab_type": "code",
        "colab": {}
      },
      "source": [
        ""
      ],
      "execution_count": 0,
      "outputs": []
    },
    {
      "cell_type": "markdown",
      "metadata": {
        "id": "CsaPGFbMhf2V",
        "colab_type": "text"
      },
      "source": [
        "Excellent, you have trained a CNN with augmented data! The accuracy is much higher and surpasses 80%\n",
        "\n",
        "Now let's see if we can use this model to get the class prediction for one particular image: "
      ]
    },
    {
      "cell_type": "code",
      "metadata": {
        "id": "9Sd3f6Vnhf2Y",
        "colab_type": "code",
        "outputId": "269a5a35-b5f6-45ba-d079-b24b96119c13",
        "colab": {
          "base_uri": "https://localhost:8080/",
          "height": 164
        }
      },
      "source": [
        "# Is this a dog or a cat? \n",
        "img = load_img('./data/test/test.jpg')  # this is a PIL image\n"
      ],
      "execution_count": 1,
      "outputs": [
        {
          "output_type": "error",
          "ename": "NameError",
          "evalue": "ignored",
          "traceback": [
            "\u001b[0;31m---------------------------------------------------------------------------\u001b[0m",
            "\u001b[0;31mNameError\u001b[0m                                 Traceback (most recent call last)",
            "\u001b[0;32m<ipython-input-1-b4e86fffcb09>\u001b[0m in \u001b[0;36m<module>\u001b[0;34m()\u001b[0m\n\u001b[0;32m----> 1\u001b[0;31m \u001b[0mimg\u001b[0m \u001b[0;34m=\u001b[0m \u001b[0mload_img\u001b[0m\u001b[0;34m(\u001b[0m\u001b[0;34m'./data/test/test.jpg'\u001b[0m\u001b[0;34m)\u001b[0m  \u001b[0;31m# this is a PIL image\u001b[0m\u001b[0;34m\u001b[0m\u001b[0;34m\u001b[0m\u001b[0m\n\u001b[0m",
            "\u001b[0;31mNameError\u001b[0m: name 'load_img' is not defined"
          ]
        }
      ]
    },
    {
      "cell_type": "markdown",
      "metadata": {
        "id": "TRAOF84-hf2p",
        "colab_type": "text"
      },
      "source": [
        "Now let's predict the class this image belongs to: "
      ]
    },
    {
      "cell_type": "code",
      "metadata": {
        "id": "AhBT8aRshf27",
        "colab_type": "code",
        "colab": {}
      },
      "source": [
        "# if you need to install cv2 you can use:\n",
        "# !pip install opencv-python\n",
        "import cv2\n",
        "\n"
      ],
      "execution_count": 0,
      "outputs": []
    },
    {
      "cell_type": "markdown",
      "metadata": {
        "id": "wkffEmBIhf3h",
        "colab_type": "text"
      },
      "source": [
        "It worked! Do you have a picture of your pet? Give it a go and see if your model can predict..\n",
        "\n",
        "Note: if you did not train your model very long, it won't be accurate. For real applications, you may want to try a pretrained model (see below). ."
      ]
    },
    {
      "cell_type": "markdown",
      "metadata": {
        "id": "cCvolloqhf3m",
        "colab_type": "text"
      },
      "source": [
        "# Advanced pretrained model (optional and FYI)\n",
        "\n",
        "Some very accurate image recognition models have been built based on a lot of data. It will often improve your results if you start from a saved pretrained model and further finetune this using your data. The below code is meant as an example of how you may do this. There are many different pretrained models out there. Find one that is right for your data... \n",
        "\n",
        "We use the pretrained model on ImageNet data which is available at https://gist.github.com/baraldilorenzo/07d7802847aaad0a35d3 (no need to download, the script will automatically fetch the data for you. The module architecture of the model (VGG) we are loading is as follows: \n",
        "![alt text](https://blog.keras.io/img/imgclf/vgg16_modified.png \"Title\")\n"
      ]
    },
    {
      "cell_type": "markdown",
      "metadata": {
        "id": "rQkyD8J1hf33",
        "colab_type": "text"
      },
      "source": [
        "The VGG16 model is available in Keras: "
      ]
    },
    {
      "cell_type": "code",
      "metadata": {
        "id": "bL-xKevJhf36",
        "colab_type": "code",
        "colab": {}
      },
      "source": [
        ""
      ],
      "execution_count": 0,
      "outputs": []
    },
    {
      "cell_type": "markdown",
      "metadata": {
        "id": "xuB4Bjqjhf4c",
        "colab_type": "text"
      },
      "source": [
        "To use VGG16 for image classification, we define datagenerators like before: "
      ]
    },
    {
      "cell_type": "code",
      "metadata": {
        "id": "axPsJ0E4hf4g",
        "colab_type": "code",
        "colab": {}
      },
      "source": [
        ""
      ],
      "execution_count": 0,
      "outputs": []
    },
    {
      "cell_type": "markdown",
      "metadata": {
        "id": "F0kpwIz5hf4u",
        "colab_type": "text"
      },
      "source": [
        "This is a long process, so we save the output of the VGG16. "
      ]
    },
    {
      "cell_type": "code",
      "metadata": {
        "id": "RwAWJnb-hf4w",
        "colab_type": "code",
        "colab": {}
      },
      "source": [
        ""
      ],
      "execution_count": 0,
      "outputs": []
    },
    {
      "cell_type": "code",
      "metadata": {
        "id": "P-yyFZhohf49",
        "colab_type": "code",
        "colab": {}
      },
      "source": [
        ""
      ],
      "execution_count": 0,
      "outputs": []
    },
    {
      "cell_type": "markdown",
      "metadata": {
        "id": "Z7dat5FFhf5K",
        "colab_type": "text"
      },
      "source": [
        "Now we can load it..."
      ]
    },
    {
      "cell_type": "code",
      "metadata": {
        "id": "zyCXavYRhf5N",
        "colab_type": "code",
        "colab": {}
      },
      "source": [
        ""
      ],
      "execution_count": 0,
      "outputs": []
    },
    {
      "cell_type": "markdown",
      "metadata": {
        "id": "HOE9Q_zOhf5W",
        "colab_type": "text"
      },
      "source": [
        "And define and train the custom fully connected neural network which follows the convolutional layers: "
      ]
    },
    {
      "cell_type": "code",
      "metadata": {
        "id": "gtepSzCvhf5b",
        "colab_type": "code",
        "colab": {}
      },
      "source": [
        ""
      ],
      "execution_count": 0,
      "outputs": []
    },
    {
      "cell_type": "code",
      "metadata": {
        "id": "MX0KYFaLhf5h",
        "colab_type": "code",
        "colab": {}
      },
      "source": [
        ""
      ],
      "execution_count": 0,
      "outputs": []
    },
    {
      "cell_type": "markdown",
      "metadata": {
        "id": "GB6pseiphf5w",
        "colab_type": "text"
      },
      "source": [
        "The training process of this small neural network is very fast : ~3s per epoch"
      ]
    },
    {
      "cell_type": "code",
      "metadata": {
        "id": "3Yf9P50qhf6A",
        "colab_type": "code",
        "colab": {}
      },
      "source": [
        ""
      ],
      "execution_count": 0,
      "outputs": []
    },
    {
      "cell_type": "markdown",
      "metadata": {
        "id": "pCr6WJ3dhf6H",
        "colab_type": "text"
      },
      "source": [
        "Let's evaluate this model. Evolution of accuracy on training (blue) and validation (green) sets for 1 to 32 epochs : "
      ]
    },
    {
      "cell_type": "code",
      "metadata": {
        "id": "YQVCYOxmhf6L",
        "colab_type": "code",
        "colab": {}
      },
      "source": [
        ""
      ],
      "execution_count": 0,
      "outputs": []
    },
    {
      "cell_type": "markdown",
      "metadata": {
        "id": "QMWa_Vhuhf6S",
        "colab_type": "text"
      },
      "source": [
        "**We reached 90-95% accuracy on the validation after ~20 epochs and using only 8% of the samples originally available on the Kaggle competition!**"
      ]
    },
    {
      "cell_type": "markdown",
      "metadata": {
        "id": "TP1H_AjVhf6U",
        "colab_type": "text"
      },
      "source": [
        "## References\n",
        "* https://blog.keras.io/building-powerful-image-classification-models-using-very-little-data.html\n",
        "* https://blog.keras.io/img/imgclf/\n",
        "<!--https://github.com/rajshah4/image_keras/blob/master/notebook.ipynb-->\n"
      ]
    }
  ]
}