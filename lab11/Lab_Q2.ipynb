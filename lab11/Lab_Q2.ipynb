{
 "cells": [
  {
   "cell_type": "code",
   "execution_count": 1,
   "metadata": {},
   "outputs": [
    {
     "name": "stderr",
     "output_type": "stream",
     "text": [
      "Using TensorFlow backend.\n"
     ]
    }
   ],
   "source": [
    "import os\n",
    "import numpy as np\n",
    "import keras\n",
    "from keras.datasets import reuters, imdb\n",
    "from keras.models import Sequential\n",
    "from keras.layers import LSTM, SimpleRNN, GRU, Dense, Dropout, Activation, Embedding\n",
    "from keras.preprocessing.text import Tokenizer\n",
    "from keras.preprocessing import sequence\n",
    "from sklearn.model_selection import train_test_split\n",
    "import pandas as pd"
   ]
  },
  {
   "cell_type": "code",
   "execution_count": 129,
   "metadata": {},
   "outputs": [],
   "source": [
    "with open('shakespeare.txt') as f:\n",
    "    data = f.readlines()[:4000]\n",
    "data_org = ''.join(data)\n",
    "data_org = data_org.lower()\n",
    "data_org = data_org.replace('\\n',' ')"
   ]
  },
  {
   "cell_type": "code",
   "execution_count": 116,
   "metadata": {},
   "outputs": [],
   "source": [
    "def char_to_int(string):\n",
    "    return [ord(i) for i in list(string)]\n",
    "\n",
    "def int_to_char(ilist):\n",
    "    return ''.join([chr(i) for i in ilist])"
   ]
  },
  {
   "cell_type": "code",
   "execution_count": 117,
   "metadata": {},
   "outputs": [],
   "source": [
    "X = []\n",
    "y = []\n",
    "for i in range(0,16000,50):\n",
    "    X.append(data_org[i:i+50])\n",
    "    y.append(data_org[i+50])\n",
    "X = np.array([char_to_int(i) for i in X])\n",
    "y = np.array([char_to_int(i)[0] for i in y])\n",
    "y = keras.utils.to_categorical(y)"
   ]
  },
  {
   "cell_type": "code",
   "execution_count": 118,
   "metadata": {},
   "outputs": [
    {
     "name": "stdout",
     "output_type": "stream",
     "text": [
      "(320, 50)\n",
      "(320, 122)\n"
     ]
    }
   ],
   "source": [
    "print(X.shape)\n",
    "print(y.shape)"
   ]
  },
  {
   "cell_type": "code",
   "execution_count": 130,
   "metadata": {},
   "outputs": [
    {
     "name": "stdout",
     "output_type": "stream",
     "text": [
      "Model: \"sequential_19\"\n",
      "_________________________________________________________________\n",
      "Layer (type)                 Output Shape              Param #   \n",
      "=================================================================\n",
      "embedding_15 (Embedding)     (None, 50, 100)           12300     \n",
      "_________________________________________________________________\n",
      "lstm_12 (LSTM)               (None, 128)               117248    \n",
      "_________________________________________________________________\n",
      "dense_12 (Dense)             (None, 122)               15738     \n",
      "_________________________________________________________________\n",
      "activation_12 (Activation)   (None, 122)               0         \n",
      "=================================================================\n",
      "Total params: 145,286\n",
      "Trainable params: 132,986\n",
      "Non-trainable params: 12,300\n",
      "_________________________________________________________________\n",
      "None\n"
     ]
    }
   ],
   "source": [
    "EMBEDDING_DIM = 100\n",
    "model = Sequential()\n",
    "model.add(Embedding(input_dim =1+y.shape[1] ,input_length=X.shape[1], output_dim=EMBEDDING_DIM, trainable=False))\n",
    "model.add(LSTM(128))\n",
    "model.add(Dense(y.shape[1]))\n",
    "model.add(Activation('softmax'))\n",
    "model.compile(loss='categorical_crossentropy', optimizer='adam', metrics=['accuracy'])\n",
    "model.build()\n",
    "print(model.summary())"
   ]
  },
  {
   "cell_type": "code",
   "execution_count": 131,
   "metadata": {},
   "outputs": [
    {
     "name": "stdout",
     "output_type": "stream",
     "text": [
      "Train on 256 samples, validate on 64 samples\n",
      "Epoch 1/10\n",
      "256/256 [==============================] - 0s 1ms/step - loss: 4.7963 - accuracy: 0.0820 - val_loss: 4.7708 - val_accuracy: 0.2812\n",
      "Epoch 2/10\n",
      "256/256 [==============================] - 0s 447us/step - loss: 4.7443 - accuracy: 0.1992 - val_loss: 4.6503 - val_accuracy: 0.2812\n",
      "Epoch 3/10\n",
      "256/256 [==============================] - 0s 443us/step - loss: 4.4301 - accuracy: 0.1992 - val_loss: 3.6970 - val_accuracy: 0.2812\n",
      "Epoch 4/10\n",
      "256/256 [==============================] - 0s 444us/step - loss: 3.6200 - accuracy: 0.1992 - val_loss: 3.2648 - val_accuracy: 0.2812\n",
      "Epoch 5/10\n",
      "256/256 [==============================] - 0s 443us/step - loss: 3.3477 - accuracy: 0.1992 - val_loss: 3.0820 - val_accuracy: 0.2812\n",
      "Epoch 6/10\n",
      "256/256 [==============================] - 0s 438us/step - loss: 3.1694 - accuracy: 0.1992 - val_loss: 3.0012 - val_accuracy: 0.2812\n",
      "Epoch 7/10\n",
      "256/256 [==============================] - 0s 440us/step - loss: 3.0522 - accuracy: 0.1992 - val_loss: 2.9765 - val_accuracy: 0.2812\n",
      "Epoch 8/10\n",
      "256/256 [==============================] - 0s 439us/step - loss: 3.0079 - accuracy: 0.1992 - val_loss: 2.9419 - val_accuracy: 0.2812\n",
      "Epoch 9/10\n",
      "256/256 [==============================] - 0s 441us/step - loss: 2.9816 - accuracy: 0.1992 - val_loss: 2.8746 - val_accuracy: 0.2812\n",
      "Epoch 10/10\n",
      "256/256 [==============================] - 0s 440us/step - loss: 2.9616 - accuracy: 0.1992 - val_loss: 2.8231 - val_accuracy: 0.2812\n"
     ]
    },
    {
     "data": {
      "text/plain": [
       "<keras.callbacks.callbacks.History at 0x7f9a686eff60>"
      ]
     },
     "execution_count": 131,
     "metadata": {},
     "output_type": "execute_result"
    }
   ],
   "source": [
    "model.fit(X, y, batch_size=64, epochs=10, verbose=1, validation_split=0.2)"
   ]
  },
  {
   "cell_type": "code",
   "execution_count": 133,
   "metadata": {},
   "outputs": [],
   "source": [
    "test = np.array(char_to_int(\"out of grief and impatience. answer'd neglecting s\")).reshape(1,50)"
   ]
  },
  {
   "cell_type": "code",
   "execution_count": 134,
   "metadata": {},
   "outputs": [
    {
     "data": {
      "text/plain": [
       "' '"
      ]
     },
     "execution_count": 134,
     "metadata": {},
     "output_type": "execute_result"
    }
   ],
   "source": [
    "chr(np.argmax(model.predict(test)))"
   ]
  }
 ],
 "metadata": {
  "kernelspec": {
   "display_name": "Python 3",
   "language": "python",
   "name": "python3"
  },
  "language_info": {
   "codemirror_mode": {
    "name": "ipython",
    "version": 3
   },
   "file_extension": ".py",
   "mimetype": "text/x-python",
   "name": "python",
   "nbconvert_exporter": "python",
   "pygments_lexer": "ipython3",
   "version": "3.7.3"
  }
 },
 "nbformat": 4,
 "nbformat_minor": 2
}
