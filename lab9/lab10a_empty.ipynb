{
 "cells": [
  {
   "cell_type": "markdown",
   "metadata": {
    "colab_type": "text",
    "id": "KDMeojC4XA9R"
   },
   "source": [
    "## Training a word2vec model from scratch\n",
    "\n",
    "-- Prof. Dorien Herremans\n",
    "\n",
    "We will start by training a word2vec model from scratch using the gensim library. You will need to ensure that you have gensim installed, and a file decompressor to load our dataset. \n",
    "\n",
    "Note: these models may take a while to train. Be sure to switch the runtime of  Google Colab to us a TPU or GPU hardware accellerator (in the menu at the top). \n",
    "\n",
    "Let's start by installing some libraries that we will use:"
   ]
  },
  {
   "cell_type": "code",
   "execution_count": 1,
   "metadata": {
    "colab": {
     "base_uri": "https://localhost:8080/",
     "height": 343
    },
    "colab_type": "code",
    "id": "mDkvVQRXu8rj",
    "outputId": "b7bf3bd2-3557-4895-d8aa-8e63a68801f7"
   },
   "outputs": [
    {
     "name": "stdout",
     "output_type": "stream",
     "text": [
      "Collecting gensim\n",
      "\u001b[?25l  Downloading https://files.pythonhosted.org/packages/b3/54/1d7294672110d5c0565cabc4b99ed952ced9a2dc2ca1d59ad1b34303a6de/gensim-3.8.1-cp37-cp37m-macosx_10_6_intel.macosx_10_9_intel.macosx_10_9_x86_64.macosx_10_10_intel.macosx_10_10_x86_64.whl (24.7MB)\n",
      "\u001b[K     |████████████████████████████████| 24.7MB 11.9MB/s eta 0:00:01    |██████████████████▎             | 14.1MB 2.0MB/s eta 0:00:06\n",
      "\u001b[?25hRequirement already satisfied: six>=1.5.0 in /Users/pengfei/miniconda3/lib/python3.7/site-packages (from gensim) (1.12.0)\n",
      "Collecting smart-open>=1.8.1 (from gensim)\n",
      "\u001b[?25l  Downloading https://files.pythonhosted.org/packages/0c/09/735f2786dfac9bbf39d244ce75c0313d27d4962e71e0774750dc809f2395/smart_open-1.9.0.tar.gz (70kB)\n",
      "\u001b[K     |████████████████████████████████| 71kB 4.3MB/s eta 0:00:01\n",
      "\u001b[?25hRequirement already satisfied: numpy>=1.11.3 in /Users/pengfei/miniconda3/lib/python3.7/site-packages (from gensim) (1.17.2)\n",
      "Requirement already satisfied: scipy>=0.18.1 in /Users/pengfei/miniconda3/lib/python3.7/site-packages (from gensim) (1.3.1)\n",
      "Collecting boto>=2.32 (from smart-open>=1.8.1->gensim)\n",
      "\u001b[?25l  Downloading https://files.pythonhosted.org/packages/23/10/c0b78c27298029e4454a472a1919bde20cb182dab1662cec7f2ca1dcc523/boto-2.49.0-py2.py3-none-any.whl (1.4MB)\n",
      "\u001b[K     |████████████████████████████████| 1.4MB 2.8MB/s eta 0:00:01\n",
      "\u001b[?25hRequirement already satisfied: requests in /Users/pengfei/miniconda3/lib/python3.7/site-packages (from smart-open>=1.8.1->gensim) (2.22.0)\n",
      "Collecting boto3 (from smart-open>=1.8.1->gensim)\n",
      "\u001b[?25l  Downloading https://files.pythonhosted.org/packages/06/04/257af61ae66188fe4cc7fce0a1b1ad4baf675d9e47924c83d723904ce159/boto3-1.10.17-py2.py3-none-any.whl (128kB)\n",
      "\u001b[K     |████████████████████████████████| 133kB 5.6MB/s eta 0:00:01\n",
      "\u001b[?25hRequirement already satisfied: certifi>=2017.4.17 in /Users/pengfei/miniconda3/lib/python3.7/site-packages (from requests->smart-open>=1.8.1->gensim) (2019.9.11)\n",
      "Requirement already satisfied: urllib3!=1.25.0,!=1.25.1,<1.26,>=1.21.1 in /Users/pengfei/miniconda3/lib/python3.7/site-packages (from requests->smart-open>=1.8.1->gensim) (1.24.2)\n",
      "Requirement already satisfied: idna<2.9,>=2.5 in /Users/pengfei/miniconda3/lib/python3.7/site-packages (from requests->smart-open>=1.8.1->gensim) (2.8)\n",
      "Requirement already satisfied: chardet<3.1.0,>=3.0.2 in /Users/pengfei/miniconda3/lib/python3.7/site-packages (from requests->smart-open>=1.8.1->gensim) (3.0.4)\n",
      "Collecting botocore<1.14.0,>=1.13.17 (from boto3->smart-open>=1.8.1->gensim)\n",
      "\u001b[?25l  Downloading https://files.pythonhosted.org/packages/d0/d8/67eec2958748b0084370a6ffb1cdb5c658400fbc7da51915303607ae7af3/botocore-1.13.17-py2.py3-none-any.whl (5.4MB)\n",
      "\u001b[K     |████████████████████████████████| 5.4MB 2.4MB/s eta 0:00:01\n",
      "\u001b[?25hCollecting jmespath<1.0.0,>=0.7.1 (from boto3->smart-open>=1.8.1->gensim)\n",
      "  Downloading https://files.pythonhosted.org/packages/83/94/7179c3832a6d45b266ddb2aac329e101367fbdb11f425f13771d27f225bb/jmespath-0.9.4-py2.py3-none-any.whl\n",
      "Collecting s3transfer<0.3.0,>=0.2.0 (from boto3->smart-open>=1.8.1->gensim)\n",
      "\u001b[?25l  Downloading https://files.pythonhosted.org/packages/16/8a/1fc3dba0c4923c2a76e1ff0d52b305c44606da63f718d14d3231e21c51b0/s3transfer-0.2.1-py2.py3-none-any.whl (70kB)\n",
      "\u001b[K     |████████████████████████████████| 71kB 4.3MB/s eta 0:00:011\n",
      "\u001b[?25hCollecting docutils<0.16,>=0.10 (from botocore<1.14.0,>=1.13.17->boto3->smart-open>=1.8.1->gensim)\n",
      "\u001b[?25l  Downloading https://files.pythonhosted.org/packages/22/cd/a6aa959dca619918ccb55023b4cb151949c64d4d5d55b3f4ffd7eee0c6e8/docutils-0.15.2-py3-none-any.whl (547kB)\n",
      "\u001b[K     |████████████████████████████████| 552kB 2.8MB/s eta 0:00:01\n",
      "\u001b[?25hRequirement already satisfied: python-dateutil<2.8.1,>=2.1; python_version >= \"2.7\" in /Users/pengfei/miniconda3/lib/python3.7/site-packages (from botocore<1.14.0,>=1.13.17->boto3->smart-open>=1.8.1->gensim) (2.8.0)\n",
      "Building wheels for collected packages: smart-open\n",
      "  Building wheel for smart-open (setup.py) ... \u001b[?25ldone\n",
      "\u001b[?25h  Stored in directory: /Users/pengfei/Library/Caches/pip/wheels/ab/10/93/5cff86f5b721d77edaecc29959b1c60d894be1f66d91407d28\n",
      "Successfully built smart-open\n",
      "Installing collected packages: boto, jmespath, docutils, botocore, s3transfer, boto3, smart-open, gensim\n",
      "Successfully installed boto-2.49.0 boto3-1.10.17 botocore-1.13.17 docutils-0.15.2 gensim-3.8.1 jmespath-0.9.4 s3transfer-0.2.1 smart-open-1.9.0\n",
      "Collecting wget\n",
      "  Downloading https://files.pythonhosted.org/packages/47/6a/62e288da7bcda82b935ff0c6cfe542970f04e29c756b0e147251b2fb251f/wget-3.2.zip\n",
      "Building wheels for collected packages: wget\n",
      "  Building wheel for wget (setup.py) ... \u001b[?25ldone\n",
      "\u001b[?25h  Stored in directory: /Users/pengfei/Library/Caches/pip/wheels/40/15/30/7d8f7cea2902b4db79e3fea550d7d7b85ecb27ef992b618f3f\n",
      "Successfully built wget\n",
      "Installing collected packages: wget\n",
      "Successfully installed wget-3.2\n"
     ]
    }
   ],
   "source": [
    "!pip install gensim\n",
    "!pip install wget"
   ]
  },
  {
   "cell_type": "markdown",
   "metadata": {
    "colab_type": "text",
    "id": "0qiQjAboxcBN"
   },
   "source": [
    "Now we can import these libraries:"
   ]
  },
  {
   "cell_type": "code",
   "execution_count": 2,
   "metadata": {
    "colab": {},
    "colab_type": "code",
    "id": "f5wZmGH0XHYP"
   },
   "outputs": [],
   "source": [
    "# imports needed \n",
    "import gensim\n",
    "import wget"
   ]
  },
  {
   "cell_type": "markdown",
   "metadata": {
    "colab_type": "text",
    "id": "02-XoaTBYuY1"
   },
   "source": [
    "We will train our model using a very small dataset for demonstrative purposes. Note that for a real data science project you should train on a much larger dataset. \n",
    "\n",
    "We will use the complete works of Shakespeare. You can find the file at https://dorienherremans.com/drop/CDS/CNNs/shakespeare.txt"
   ]
  },
  {
   "cell_type": "code",
   "execution_count": 5,
   "metadata": {
    "colab": {},
    "colab_type": "code",
    "id": "1Tg9GZzYt4nf"
   },
   "outputs": [
    {
     "name": "stdout",
     "output_type": "stream",
     "text": [
      "--2019-11-14 18:47:34--  https://dorienherremans.com/drop/CDS/CNNs/shakespeare.txt\n",
      "Resolving dorienherremans.com (dorienherremans.com)... 96.127.180.74\n",
      "Connecting to dorienherremans.com (dorienherremans.com)|96.127.180.74|:443... failed: Operation timed out.\n",
      "Retrying.\n",
      "\n",
      "--2019-11-14 18:48:51--  (try: 2)  https://dorienherremans.com/drop/CDS/CNNs/shakespeare.txt\n",
      "Connecting to dorienherremans.com (dorienherremans.com)|96.127.180.74|:443... connected.\n",
      "HTTP request sent, awaiting response... 200 OK\n",
      "Length: 5447743 (5.2M) [text/plain]\n",
      "Saving to: ‘shakespeare.txt’\n",
      "\n",
      "shakespeare.txt     100%[===================>]   5.20M  22.7KB/s    in 5m 26s  \n",
      "\n",
      "2019-11-14 18:54:21 (16.3 KB/s) - ‘shakespeare.txt’ saved [5447743/5447743]\n",
      "\n"
     ]
    }
   ],
   "source": [
    "# download the dataset\n",
    "!wget \"https://dorienherremans.com/drop/CDS/CNNs/shakespeare.txt\""
   ]
  },
  {
   "cell_type": "markdown",
   "metadata": {
    "colab_type": "text",
    "id": "nKHwTYP3YpJZ"
   },
   "source": [
    "Let's read the input file and convert each line into a list of words (tokenizing). Do do this, we create a function read_input which is called in the penultimate line below: "
   ]
  },
  {
   "cell_type": "code",
   "execution_count": 6,
   "metadata": {
    "colab": {},
    "colab_type": "code",
    "id": "F8J2jQ1JYpJd"
   },
   "outputs": [
    {
     "name": "stdout",
     "output_type": "stream",
     "text": [
      "reading file...\n",
      "Done reading data file\n"
     ]
    }
   ],
   "source": [
    "def read_input(input_file):\n",
    "    print(\"reading file...\")\n",
    "\n",
    "    with open (input_file, 'r') as f: \n",
    "        lines = f.readlines()\n",
    "        for line in lines:\n",
    "        # do some pre-processing and return a (tokenized) list      # of words for each review text\n",
    "        # you can print the output here to understand  # the preprocessing (tokenizing)\n",
    "            yield  gensim.utils.simple_preprocess  (line)\n",
    "\n",
    "# each review item new becomes a series of words # this is a list of lists\n",
    "# point to the location on your filesystem\n",
    "data_file  =  'shakespeare.txt'\n",
    "\n",
    "documents = list (read_input (data_file))\n",
    "print(\"Done reading data file\")\n"
   ]
  },
  {
   "cell_type": "markdown",
   "metadata": {
    "colab_type": "text",
    "id": "ZnDX2S9eX1Ub"
   },
   "source": [
    "Now let's train the word2vec model using our document variable (which is a list of word lists). Note that you can specify a number of hyperparameters below:\n",
    "* min_count removes all words that occur less then min_count\n",
    "* window: window size in the skip-gram\n",
    "* workers: how many threads to use\n",
    "* size: number of dimension of your new word embedding vector (typically 100-200). Smaller datasets require a smaller number\n",
    "\n"
   ]
  },
  {
   "cell_type": "code",
   "execution_count": 7,
   "metadata": {
    "colab": {},
    "colab_type": "code",
    "id": "VJWmrzCRZm9Z"
   },
   "outputs": [
    {
     "data": {
      "text/plain": [
       "(6704131, 8675160)"
      ]
     },
     "execution_count": 7,
     "metadata": {},
     "output_type": "execute_result"
    }
   ],
   "source": [
    "model  =  gensim.models.Word2Vec(documents,  size=150,  window=5,  min_count=2,  workers=4)\n",
    "model.train(documents,total_examples=len(documents),epochs=10)"
   ]
  },
  {
   "cell_type": "markdown",
   "metadata": {
    "colab_type": "text",
    "id": "0hKwagKCYpJ7"
   },
   "source": [
    "That's it! Now you've trained the model! \n",
    "\n",
    "Now let's explore some properties of our new word space. You can get the words most close (read:  most similar) to a given word. Remember, the only texts the model has seen is shakespeare!"
   ]
  },
  {
   "cell_type": "code",
   "execution_count": 9,
   "metadata": {
    "colab": {},
    "colab_type": "code",
    "id": "MTGeHhiaZzIU"
   },
   "outputs": [
    {
     "data": {
      "text/plain": [
       "[('prince', 0.6451050043106079),\n",
       " ('duke', 0.5984484553337097),\n",
       " ('warwick', 0.5718879699707031),\n",
       " ('emperor', 0.5330439805984497),\n",
       " ('bolingbroke', 0.5313977003097534),\n",
       " ('fifth', 0.5231500267982483),\n",
       " ('plantagenets', 0.5175158381462097),\n",
       " ('bastard', 0.5165777206420898),\n",
       " ('plantagenet', 0.49977225065231323),\n",
       " ('gaunt', 0.4962276816368103)]"
      ]
     },
     "execution_count": 9,
     "metadata": {},
     "output_type": "execute_result"
    }
   ],
   "source": [
    "w1 = \"king\"\n",
    "model.wv.most_similar  (positive=w1)"
   ]
  },
  {
   "cell_type": "code",
   "execution_count": 10,
   "metadata": {
    "colab": {},
    "colab_type": "code",
    "id": "GuJhHUOve1km"
   },
   "outputs": [
    {
     "data": {
      "text/plain": [
       "[('laugh', 0.7429768443107605),\n",
       " ('tremble', 0.7163074016571045),\n",
       " ('shine', 0.6790613532066345),\n",
       " ('rail', 0.6767793297767639),\n",
       " ('grieve', 0.6707180142402649),\n",
       " ('scowl', 0.6663979887962341)]"
      ]
     },
     "execution_count": 10,
     "metadata": {},
     "output_type": "execute_result"
    }
   ],
   "source": [
    "# look up top 6 words similar to 'smile'\n",
    "w1 = [\"smile\"]\n",
    "model.wv.most_similar  (positive=w1,topn=6)\n"
   ]
  },
  {
   "cell_type": "code",
   "execution_count": 11,
   "metadata": {
    "colab": {},
    "colab_type": "code",
    "id": "iZu3GGf9e41V"
   },
   "outputs": [
    {
     "data": {
      "text/plain": [
       "[('england', 0.6916472315788269),\n",
       " ('egypt', 0.6065055131912231),\n",
       " ('greece', 0.5690208673477173),\n",
       " ('ireland', 0.5653658509254456),\n",
       " ('scotland', 0.5644989013671875),\n",
       " ('wales', 0.5580013990402222)]"
      ]
     },
     "execution_count": 11,
     "metadata": {},
     "output_type": "execute_result"
    }
   ],
   "source": [
    "# look up top 6 words similar to 'france'\n",
    "w1 = [\"france\"]\n",
    "model.wv.most_similar  (positive=w1,topn=6)"
   ]
  },
  {
   "cell_type": "code",
   "execution_count": 12,
   "metadata": {
    "colab": {},
    "colab_type": "code",
    "id": "VlDIzGHZe9yN"
   },
   "outputs": [
    {
     "data": {
      "text/plain": [
       "[('head', 0.7496317028999329),\n",
       " ('throat', 0.7087114453315735),\n",
       " ('pocket', 0.6926472187042236),\n",
       " ('knife', 0.6862814426422119),\n",
       " ('body', 0.684861421585083),\n",
       " ('knee', 0.6711223721504211)]"
      ]
     },
     "execution_count": 12,
     "metadata": {},
     "output_type": "execute_result"
    }
   ],
   "source": [
    "# look up top 6 words similar to 'sword'\n",
    "w1 = [\"sword\"]\n",
    "model.wv.most_similar  (positive=w1,topn=6)"
   ]
  },
  {
   "cell_type": "code",
   "execution_count": 14,
   "metadata": {
    "colab": {},
    "colab_type": "code",
    "id": "wvKKzFHbfAnr"
   },
   "outputs": [
    {
     "data": {
      "text/plain": [
       "[('duke', 0.6275080442428589),\n",
       " ('princess', 0.6155930161476135),\n",
       " ('warwick', 0.5944571495056152),\n",
       " ('emperor', 0.5758367776870728),\n",
       " ('court', 0.5329492092132568),\n",
       " ('ghost', 0.5301647186279297),\n",
       " ('issue', 0.5166307091712952),\n",
       " ('bolingbroke', 0.5163676142692566),\n",
       " ('gods', 0.5097305774688721),\n",
       " ('duchess', 0.5071592330932617)]"
      ]
     },
     "execution_count": 14,
     "metadata": {},
     "output_type": "execute_result"
    }
   ],
   "source": [
    "# get everything related to stuff on the royalty and not related to farmer\n",
    "w1  =  [\"king\",'queen','prince'] \n",
    "w2  =  ['farmer']\n",
    "model.wv.most_similar  (positive=w1,negative=w2,topn=10)"
   ]
  },
  {
   "cell_type": "markdown",
   "metadata": {
    "colab_type": "text",
    "id": "TkQZ1KkiYpK_"
   },
   "source": [
    "Explore the similarity (e.g. distance) between two words. Does it make sense?"
   ]
  },
  {
   "cell_type": "code",
   "execution_count": 15,
   "metadata": {
    "colab": {},
    "colab_type": "code",
    "id": "3nFv31TxfBMX"
   },
   "outputs": [
    {
     "data": {
      "text/plain": [
       "0.55017877"
      ]
     },
     "execution_count": 15,
     "metadata": {},
     "output_type": "execute_result"
    }
   ],
   "source": [
    "# similarity between two similar words\n",
    "model.wv.similarity(w1=\"pretty\",w2=\"beautiful\")"
   ]
  },
  {
   "cell_type": "code",
   "execution_count": 16,
   "metadata": {
    "colab": {},
    "colab_type": "code",
    "id": "0PXLoSftYpLO"
   },
   "outputs": [
    {
     "data": {
      "text/plain": [
       "0.041484118"
      ]
     },
     "execution_count": 16,
     "metadata": {},
     "output_type": "execute_result"
    }
   ],
   "source": [
    "# similarity between two opposing words\n",
    "model.wv.similarity(w1=\"king\",w2=\"farmer\")"
   ]
  },
  {
   "cell_type": "markdown",
   "metadata": {
    "colab_type": "text",
    "id": "hpftKgByYpLT"
   },
   "source": [
    "Try some other combinations :) "
   ]
  },
  {
   "cell_type": "markdown",
   "metadata": {
    "colab_type": "text",
    "id": "Nw7Aabx4YpLU"
   },
   "source": [
    "We can even use it to perform more 'smart' assigments: "
   ]
  },
  {
   "cell_type": "code",
   "execution_count": 17,
   "metadata": {
    "colab": {},
    "colab_type": "code",
    "id": "8eO7ra-efKYq"
   },
   "outputs": [
    {
     "name": "stderr",
     "output_type": "stream",
     "text": [
      "/Users/pengfei/miniconda3/lib/python3.7/site-packages/gensim/models/keyedvectors.py:877: FutureWarning: arrays to stack must be passed as a \"sequence\" type such as list or tuple. Support for non-sequence iterables such as generators is deprecated as of NumPy 1.16 and will raise an error in the future.\n",
      "  vectors = vstack(self.word_vec(word, use_norm=True) for word in used_words).astype(REAL)\n"
     ]
    },
    {
     "data": {
      "text/plain": [
       "'france'"
      ]
     },
     "execution_count": 17,
     "metadata": {},
     "output_type": "execute_result"
    }
   ],
   "source": [
    "# Which one is the odd one out in this list?\n",
    "model.wv.doesnt_match([\"cat\",\"dog\",\"france\"])"
   ]
  },
  {
   "cell_type": "markdown",
   "metadata": {
    "colab_type": "text",
    "id": "ll3RsRN2YpL3"
   },
   "source": [
    "If you are interested in plotting the words in a multidimensional space, you can actually get the vector coordinates of each word: "
   ]
  },
  {
   "cell_type": "code",
   "execution_count": 18,
   "metadata": {
    "colab": {},
    "colab_type": "code",
    "id": "rEOzUfKcYpL4"
   },
   "outputs": [
    {
     "data": {
      "text/plain": [
       "array([-9.80007112e-01,  1.52031839e+00,  2.99304485e-01, -1.01096600e-01,\n",
       "        6.84923351e-01, -3.52591246e-01, -1.18683040e+00, -2.83890605e-01,\n",
       "        2.42472053e-01, -2.76543677e-01, -3.17441970e-01, -1.27127457e+00,\n",
       "       -6.20140284e-02, -7.64849782e-01, -1.29591078e-01,  8.23032185e-02,\n",
       "       -3.48733068e-01,  1.24535464e-01, -4.98433888e-01, -2.24708989e-01,\n",
       "       -8.29970121e-01, -8.60856235e-01, -3.83146596e-03, -2.47619718e-01,\n",
       "        5.54984272e-01, -5.04175723e-01, -3.10398221e-01, -1.98879623e+00,\n",
       "        7.40667522e-01, -3.11845988e-01, -4.87322599e-01, -1.98641628e-01,\n",
       "       -2.23262887e-02, -8.01047534e-02,  2.63578862e-01,  4.28055197e-01,\n",
       "        7.45751321e-01, -4.72771287e-01, -7.96633214e-02, -1.14159435e-02,\n",
       "       -9.45634246e-01, -1.23431599e+00,  7.11110294e-01, -8.11097205e-01,\n",
       "       -1.07928514e+00,  4.02637422e-01, -2.35535622e+00,  6.30449176e-01,\n",
       "        7.76762426e-01,  3.38400692e-01,  5.05976856e-01, -1.06510592e+00,\n",
       "        6.16450727e-01,  8.54660943e-02, -8.07208009e-04, -4.79397506e-01,\n",
       "       -2.37419099e-01, -6.74541056e-01,  1.06457718e-01,  8.76747549e-01,\n",
       "       -5.17249703e-01,  7.60426342e-01,  2.07702056e-01,  7.30656564e-01,\n",
       "        1.27051938e+00, -8.03885639e-01, -7.14404061e-02,  1.11419964e+00,\n",
       "        4.60455805e-01,  5.13226867e-01,  7.83629835e-01, -1.07460332e+00,\n",
       "        1.87596500e-01, -1.93318510e+00, -1.14414132e+00, -3.17209035e-01,\n",
       "        2.27286726e-01, -1.09914667e-03,  8.67493033e-01, -2.36780539e-01,\n",
       "        4.88133132e-01, -1.90368259e+00, -3.26226056e-01,  2.63750348e-02,\n",
       "       -1.14813423e+00,  1.30102914e-02,  1.13182425e+00,  3.32469106e-01,\n",
       "       -1.83672041e-01, -8.30968082e-01,  9.24417794e-01, -1.00352621e+00,\n",
       "        1.85194254e+00, -1.12464452e+00,  2.36905679e-01,  6.04188554e-02,\n",
       "        5.34407437e-01, -9.01615620e-01, -1.51508451e+00,  8.70021507e-02,\n",
       "       -1.15907228e+00,  7.25421071e-01, -5.06491065e-01,  3.41632247e-01,\n",
       "       -5.46571672e-01, -3.96438748e-01,  2.29930729e-01,  8.69580448e-01,\n",
       "        3.62233669e-01, -4.20507997e-01,  1.93290257e+00,  1.83184177e-01,\n",
       "       -1.15579998e+00, -2.09690198e-01,  1.42797410e+00,  4.43429023e-01,\n",
       "       -6.72181726e-01,  5.04579279e-04, -2.47615248e-01,  1.15061156e-01,\n",
       "       -1.13422818e-01, -1.99515536e-01, -4.69909012e-01,  2.29344577e-01,\n",
       "        1.81271344e-01, -2.16488332e-01,  7.70676315e-01, -1.19834113e+00,\n",
       "       -5.40256798e-01, -3.94775271e-01,  8.05235028e-01,  5.27758062e-01,\n",
       "       -4.62833047e-01,  1.06442654e+00, -2.24258348e-01, -1.06780767e+00,\n",
       "        1.15447009e+00,  7.62723446e-01, -3.07098955e-01, -3.70388657e-01,\n",
       "        8.96348834e-01, -7.22973526e-01, -9.68587920e-02,  2.42129549e-01,\n",
       "       -7.42527127e-01, -1.01078856e+00, -3.23792547e-01, -6.47748888e-01,\n",
       "        3.17329735e-01, -1.09269404e+00], dtype=float32)"
      ]
     },
     "execution_count": 18,
     "metadata": {},
     "output_type": "execute_result"
    }
   ],
   "source": [
    "model.wv['france']"
   ]
  },
  {
   "cell_type": "markdown",
   "metadata": {
    "colab_type": "text",
    "id": "1_U5DgEPYpMI"
   },
   "source": [
    "## Bonus: visualising our model in t-SNE: "
   ]
  },
  {
   "cell_type": "code",
   "execution_count": 21,
   "metadata": {
    "colab": {},
    "colab_type": "code",
    "id": "0g6g7s-MYpMK"
   },
   "outputs": [
    {
     "name": "stderr",
     "output_type": "stream",
     "text": [
      "/Users/pengfei/miniconda3/lib/python3.7/site-packages/ipykernel_launcher.py:16: DeprecationWarning: Call to deprecated `__getitem__` (Method will be removed in 4.0.0, use self.wv.__getitem__() instead).\n",
      "  app.launch_new_instance()\n"
     ]
    },
    {
     "data": {
      "image/png": "[encoded data removed]",
      "text/plain": [
       "<Figure size 1152x1152 with 1 Axes>"
      ]
     },
     "metadata": {
      "needs_background": "light"
     },
     "output_type": "display_data"
    }
   ],
   "source": [
    "from sklearn.manifold import TSNE\n",
    "import matplotlib.pyplot as plt\n",
    "%matplotlib inline\n",
    "\n",
    "def tsne_plot(model):\n",
    "    \"Creates and TSNE model and plots it\"\n",
    "\n",
    "    labels = []\n",
    "    tokens = []\n",
    "    \n",
    "    count = 0\n",
    "    for word in model.wv.vocab:\n",
    "        # to speed up the process, let's limit to the first 100 elements\n",
    "        if count < 100:\n",
    "            # TODO get the labels\n",
    "            tokens.append(model[word])\n",
    "            labels.append(word)\n",
    "            count = count+1\n",
    "\n",
    "    # set the t-sne values\n",
    "    # TODO fit the t-sne model\n",
    "    tsne_model = TSNE(perplexity=40, n_components=2, init='pca', n_iter=2500, random_state=1234)\n",
    "    new_values = tsne_model.fit_transform(tokens)\n",
    "    x = []\n",
    "    y = []\n",
    "    for value in new_values:\n",
    "        x.append(value[0])\n",
    "        y.append(value[1])\n",
    "        \n",
    "    plt.figure(figsize=(16, 16)) \n",
    "    for i in range(len(x)):\n",
    "        plt.scatter(x[i],y[i])\n",
    "        plt.annotate(labels[i],\n",
    "                     xy=(x[i], y[i]),\n",
    "                     xytext=(5, 2),\n",
    "                     textcoords='offset points',\n",
    "                     ha='right',\n",
    "                     va='bottom')\n",
    "    plt.show()\n",
    "    \n",
    "tsne_plot(model)"
   ]
  },
  {
   "cell_type": "markdown",
   "metadata": {
    "colab_type": "text",
    "id": "UsRf6k4wYpMd"
   },
   "source": [
    "## References\n",
    "\n",
    "* https://radimrehurek.com/gensim/models/word2vec.html\n",
    "* https://towardsdatascience.com/multi-class-text-classification-model-comparison-and-selection-5eb066197568\n",
    "* https://github.com/kavgan/nlp-text-mining-working-examples/tree/master/word2vec\n",
    "* https://medium.com/@mishra.thedeepak/doc2vec-simple-implementation-example-df2afbbfbad5"
   ]
  }
 ],
 "metadata": {
  "accelerator": "TPU",
  "colab": {
   "collapsed_sections": [],
   "name": "lab10a empty",
   "provenance": [],
   "toc_visible": true
  },
  "kernelspec": {
   "display_name": "Python 3",
   "language": "python",
   "name": "python3"
  },
  "language_info": {
   "codemirror_mode": {
    "name": "ipython",
    "version": 3
   },
   "file_extension": ".py",
   "mimetype": "text/x-python",
   "name": "python",
   "nbconvert_exporter": "python",
   "pygments_lexer": "ipython3",
   "version": "3.7.3"
  }
 },
 "nbformat": 4,
 "nbformat_minor": 1
}
